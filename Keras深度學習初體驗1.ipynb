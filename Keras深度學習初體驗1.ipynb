{
  "nbformat": 4,
  "nbformat_minor": 0,
  "metadata": {
    "colab": {
      "name": "Keras深度學習初體驗1.ipynb",
      "provenance": []
    },
    "kernelspec": {
      "name": "python3",
      "display_name": "Python 3"
    }
  },
  "cells": [
    {
      "cell_type": "code",
      "metadata": {
        "id": "gOviX7ZLkYHu",
        "colab_type": "code",
        "colab": {
          "base_uri": "https://localhost:8080/",
          "height": 493
        },
        "outputId": "9f0649b9-fdeb-4409-f5ed-142f2695bcb7"
      },
      "source": [
        "import keras\n",
        "from keras.models import Sequential\n",
        "from keras.layers import Dense\n",
        "\n",
        "import numpy as np\n",
        "data = np.random.random((1000, 10)) #隨機產生1000筆資料，每筆資料1包含十個float數字\n",
        "labels = np.random.randint(2, size=(1000, 1)) #隨機產生1000筆資料，每筆資料上限為2(意思就是0 或 1)\n",
        "print(np.shape(data))\n",
        "print(data[0])\n",
        "print(np.shape(labels))\n",
        "print(labels[0])\n",
        "\n",
        "model = Sequential()\n",
        "model.add(Dense(32, activation='relu', input_dim=10))\n",
        "model.add(Dense(1, activation='sigmoid'))\n",
        "model.compile(optimizer='rmsprop', loss='binary_crossentropy', metrics=['accuracy'])\n",
        "\n",
        "model.fit(data, labels, epochs=10, batch_size=32)\n",
        "\n",
        "score=model.evaluate(data, labels)\n",
        "print(score[1])"
      ],
      "execution_count": 1,
      "outputs": [
        {
          "output_type": "stream",
          "text": [
            "Using TensorFlow backend.\n"
          ],
          "name": "stderr"
        },
        {
          "output_type": "stream",
          "text": [
            "(1000, 10)\n",
            "[0.66388909 0.31314442 0.91285645 0.37574382 0.31453542 0.77780565\n",
            " 0.28342721 0.11400859 0.20146942 0.24188569]\n",
            "(1000, 1)\n",
            "[0]\n",
            "Epoch 1/10\n",
            "1000/1000 [==============================] - 0s 289us/step - loss: 0.6889 - accuracy: 0.5410\n",
            "Epoch 2/10\n",
            "1000/1000 [==============================] - 0s 34us/step - loss: 0.6878 - accuracy: 0.5400\n",
            "Epoch 3/10\n",
            "1000/1000 [==============================] - 0s 33us/step - loss: 0.6870 - accuracy: 0.5460\n",
            "Epoch 4/10\n",
            "1000/1000 [==============================] - 0s 34us/step - loss: 0.6871 - accuracy: 0.5420\n",
            "Epoch 5/10\n",
            "1000/1000 [==============================] - 0s 35us/step - loss: 0.6865 - accuracy: 0.5420\n",
            "Epoch 6/10\n",
            "1000/1000 [==============================] - 0s 36us/step - loss: 0.6861 - accuracy: 0.5460\n",
            "Epoch 7/10\n",
            "1000/1000 [==============================] - 0s 34us/step - loss: 0.6858 - accuracy: 0.5370\n",
            "Epoch 8/10\n",
            "1000/1000 [==============================] - 0s 34us/step - loss: 0.6852 - accuracy: 0.5630\n",
            "Epoch 9/10\n",
            "1000/1000 [==============================] - 0s 37us/step - loss: 0.6850 - accuracy: 0.5530\n",
            "Epoch 10/10\n",
            "1000/1000 [==============================] - 0s 35us/step - loss: 0.6845 - accuracy: 0.5460\n",
            "1000/1000 [==============================] - 0s 35us/step\n",
            "0.5600000023841858\n"
          ],
          "name": "stdout"
        }
      ]
    }
  ]
}