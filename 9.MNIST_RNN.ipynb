{
  "nbformat": 4,
  "nbformat_minor": 0,
  "metadata": {
    "colab": {
      "name": "Untitled7.ipynb",
      "provenance": []
    },
    "kernelspec": {
      "name": "python3",
      "display_name": "Python 3"
    },
    "accelerator": "GPU"
  },
  "cells": [
    {
      "cell_type": "code",
      "metadata": {
        "id": "NckOmHPEKSCA",
        "colab_type": "code",
        "colab": {
          "base_uri": "https://localhost:8080/",
          "height": 935
        },
        "outputId": "ae7fb6dd-b04f-489f-8fdc-2c483f5e7924"
      },
      "source": [
        "from keras.datasets import mnist\n",
        "from keras.layers import Dense, LSTM\n",
        "from keras.utils import to_categorical\n",
        "from keras.models import Sequential\n",
        "\n",
        "#parameters for LSTM\n",
        "nb_lstm_outputs = 30  \n",
        "nb_time_steps = 28  \n",
        "nb_input_vector = 28 \n",
        "\n",
        "#data preprocessing: tofloat32, normalization, one_hot encoding\n",
        "(x_train, y_train), (x_test, y_test) = mnist.load_data()\n",
        "x_train = x_train.astype('float32')\n",
        "x_test = x_test.astype('float32')\n",
        "x_train /= 255\n",
        "x_test /= 255\n",
        " \n",
        "y_train = to_categorical(y_train, num_classes=10)\n",
        "y_test = to_categorical(y_test, num_classes=10)\n",
        "\n",
        "#build model\n",
        "model = Sequential()\n",
        "model.add(LSTM(units=nb_lstm_outputs, input_shape=(nb_time_steps, nb_input_vector)))\n",
        "model.add(Dense(10, activation='softmax'))\n",
        "\n",
        "#compile:loss, optimizer, metrics\n",
        "model.compile(loss='categorical_crossentropy', optimizer='adam', metrics=['accuracy'])\n",
        "#train: epcoch, batch_size\n",
        "model.fit(x_train, y_train, epochs=20, batch_size=128, verbose=1)\n",
        "\n",
        "model.summary()\n",
        "\n",
        "score = model.evaluate(x_test, y_test,batch_size=128, verbose=1)\n",
        "print(score)"
      ],
      "execution_count": 2,
      "outputs": [
        {
          "output_type": "stream",
          "text": [
            "Epoch 1/20\n",
            "60000/60000 [==============================] - 35s 583us/step - loss: 1.0601 - accuracy: 0.6616\n",
            "Epoch 2/20\n",
            "60000/60000 [==============================] - 35s 584us/step - loss: 0.3952 - accuracy: 0.8823\n",
            "Epoch 3/20\n",
            "60000/60000 [==============================] - 35s 583us/step - loss: 0.2656 - accuracy: 0.9226\n",
            "Epoch 4/20\n",
            "60000/60000 [==============================] - 35s 592us/step - loss: 0.2028 - accuracy: 0.9416\n",
            "Epoch 5/20\n",
            "60000/60000 [==============================] - 34s 560us/step - loss: 0.1668 - accuracy: 0.9517\n",
            "Epoch 6/20\n",
            "60000/60000 [==============================] - 35s 578us/step - loss: 0.1443 - accuracy: 0.9580\n",
            "Epoch 7/20\n",
            "60000/60000 [==============================] - 34s 573us/step - loss: 0.1293 - accuracy: 0.9616\n",
            "Epoch 8/20\n",
            "60000/60000 [==============================] - 35s 587us/step - loss: 0.1158 - accuracy: 0.9663\n",
            "Epoch 9/20\n",
            "60000/60000 [==============================] - 34s 564us/step - loss: 0.1047 - accuracy: 0.9692\n",
            "Epoch 10/20\n",
            "60000/60000 [==============================] - 34s 568us/step - loss: 0.0980 - accuracy: 0.9714\n",
            "Epoch 11/20\n",
            "60000/60000 [==============================] - 34s 571us/step - loss: 0.0919 - accuracy: 0.9725\n",
            "Epoch 12/20\n",
            "60000/60000 [==============================] - 34s 560us/step - loss: 0.0858 - accuracy: 0.9743\n",
            "Epoch 13/20\n",
            "60000/60000 [==============================] - 34s 566us/step - loss: 0.0821 - accuracy: 0.9760\n",
            "Epoch 14/20\n",
            "60000/60000 [==============================] - 34s 562us/step - loss: 0.0764 - accuracy: 0.9772\n",
            "Epoch 15/20\n",
            "60000/60000 [==============================] - 35s 576us/step - loss: 0.0724 - accuracy: 0.9791\n",
            "Epoch 16/20\n",
            "60000/60000 [==============================] - 34s 574us/step - loss: 0.0690 - accuracy: 0.9793\n",
            "Epoch 17/20\n",
            "60000/60000 [==============================] - 35s 579us/step - loss: 0.0650 - accuracy: 0.9803\n",
            "Epoch 18/20\n",
            "60000/60000 [==============================] - 34s 574us/step - loss: 0.0659 - accuracy: 0.9803\n",
            "Epoch 19/20\n",
            "60000/60000 [==============================] - 34s 572us/step - loss: 0.0600 - accuracy: 0.9818\n",
            "Epoch 20/20\n",
            "60000/60000 [==============================] - 35s 582us/step - loss: 0.0580 - accuracy: 0.9826\n",
            "Model: \"sequential_2\"\n",
            "_________________________________________________________________\n",
            "Layer (type)                 Output Shape              Param #   \n",
            "=================================================================\n",
            "lstm_1 (LSTM)                (None, 30)                7080      \n",
            "_________________________________________________________________\n",
            "dense_3 (Dense)              (None, 10)                310       \n",
            "=================================================================\n",
            "Total params: 7,390\n",
            "Trainable params: 7,390\n",
            "Non-trainable params: 0\n",
            "_________________________________________________________________\n",
            "10000/10000 [==============================] - 1s 58us/step\n",
            "[0.07426225154697895, 0.9761999845504761]\n"
          ],
          "name": "stdout"
        }
      ]
    }
  ]
}