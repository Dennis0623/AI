{
  "nbformat": 4,
  "nbformat_minor": 0,
  "metadata": {
    "colab": {
      "name": "Untitled5.ipynb",
      "provenance": [],
      "collapsed_sections": []
    },
    "kernelspec": {
      "name": "python3",
      "display_name": "Python 3"
    },
    "accelerator": "GPU"
  },
  "cells": [
    {
      "cell_type": "code",
      "metadata": {
        "id": "yVlLZiIVDFHt",
        "colab_type": "code",
        "colab": {
          "base_uri": "https://localhost:8080/",
          "height": 1000
        },
        "outputId": "24ade696-8629-4966-e4e9-f06738ecdd8a"
      },
      "source": [
        "from keras.datasets import cifar10\n",
        "\n",
        "(x_train, y_train_), (x_test, y_test_) = cifar10.load_data()\n",
        "\n",
        "x_train = x_train.astype('float32') / 255\n",
        "x_test = x_test.astype('float32') / 255\n",
        "\n",
        "from keras.utils import to_categorical\n",
        "y_train = to_categorical(y_train_)\n",
        "y_test = to_categorical(y_test_)\n",
        "\n",
        "\"\"\"## Model Definition\"\"\"\n",
        "\n",
        "from keras.models import Sequential\n",
        "model = Sequential()\n",
        "\n",
        "from keras.layers import Conv2D, MaxPool2D, Flatten, Dense\n",
        "\n",
        "model.add(Conv2D(filters=32, \n",
        "                kernel_size=(3, 3),\n",
        "                activation='relu',\n",
        "                input_shape=(32, 32, 3)))\n",
        "\n",
        "model.add(MaxPool2D())\n",
        "\n",
        "model.add(Conv2D(filters=64,\n",
        "                kernel_size=(3, 3),\n",
        "                activation='relu'))\n",
        "model.add(MaxPool2D())\n",
        "\n",
        "model.add(Flatten())\n",
        "model.add(Dense(10, activation='softmax'))\n",
        "\n",
        "model.compile(optimizer='adam',\n",
        "             loss='categorical_crossentropy',\n",
        "             metrics=['accuracy'])\n",
        "\n",
        "print(model.summary())\n",
        "\n",
        "\"\"\"## Fitting\"\"\"\n",
        "\n",
        "history = model.fit(x_train, y_train, batch_size=50, epochs=15, verbose=1, validation_data=(x_test, y_test))\n",
        "\n",
        "import matplotlib.pyplot as plt\n",
        "\n",
        "history_dict = history.history\n",
        "loss_values = history_dict['loss']\n",
        "val_loss_values = history_dict['val_loss']\n",
        "\n",
        "epochs = range(1, len(history_dict['accuracy']) + 1)\n",
        "\n",
        "plt.plot(epochs, loss_values, 'bo', label='Training loss')\n",
        "plt.plot(epochs, val_loss_values, 'b', label='Validation loss')\n",
        "plt.title('Training and validation loss')\n",
        "plt.xlabel('Epochs')\n",
        "plt.ylabel('Loss')\n",
        "plt.legend()\n",
        "\n",
        "plt.show()"
      ],
      "execution_count": 1,
      "outputs": [
        {
          "output_type": "stream",
          "text": [
            "Using TensorFlow backend.\n"
          ],
          "name": "stderr"
        },
        {
          "output_type": "stream",
          "text": [
            "Downloading data from https://www.cs.toronto.edu/~kriz/cifar-10-python.tar.gz\n",
            "170500096/170498071 [==============================] - 11s 0us/step\n",
            "Model: \"sequential_1\"\n",
            "_________________________________________________________________\n",
            "Layer (type)                 Output Shape              Param #   \n",
            "=================================================================\n",
            "conv2d_1 (Conv2D)            (None, 30, 30, 32)        896       \n",
            "_________________________________________________________________\n",
            "max_pooling2d_1 (MaxPooling2 (None, 15, 15, 32)        0         \n",
            "_________________________________________________________________\n",
            "conv2d_2 (Conv2D)            (None, 13, 13, 64)        18496     \n",
            "_________________________________________________________________\n",
            "max_pooling2d_2 (MaxPooling2 (None, 6, 6, 64)          0         \n",
            "_________________________________________________________________\n",
            "flatten_1 (Flatten)          (None, 2304)              0         \n",
            "_________________________________________________________________\n",
            "dense_1 (Dense)              (None, 10)                23050     \n",
            "=================================================================\n",
            "Total params: 42,442\n",
            "Trainable params: 42,442\n",
            "Non-trainable params: 0\n",
            "_________________________________________________________________\n",
            "None\n",
            "Train on 50000 samples, validate on 10000 samples\n",
            "Epoch 1/15\n",
            "50000/50000 [==============================] - 15s 299us/step - loss: 1.5174 - accuracy: 0.4627 - val_loss: 1.2509 - val_accuracy: 0.5684\n",
            "Epoch 2/15\n",
            "50000/50000 [==============================] - 9s 185us/step - loss: 1.1722 - accuracy: 0.5935 - val_loss: 1.0999 - val_accuracy: 0.6241\n",
            "Epoch 3/15\n",
            "50000/50000 [==============================] - 9s 185us/step - loss: 1.0341 - accuracy: 0.6427 - val_loss: 1.0067 - val_accuracy: 0.6536\n",
            "Epoch 4/15\n",
            "50000/50000 [==============================] - 9s 188us/step - loss: 0.9507 - accuracy: 0.6724 - val_loss: 0.9522 - val_accuracy: 0.6752\n",
            "Epoch 5/15\n",
            "50000/50000 [==============================] - 9s 183us/step - loss: 0.8956 - accuracy: 0.6927 - val_loss: 0.9586 - val_accuracy: 0.6714\n",
            "Epoch 6/15\n",
            "50000/50000 [==============================] - 9s 182us/step - loss: 0.8447 - accuracy: 0.7108 - val_loss: 0.8951 - val_accuracy: 0.6943\n",
            "Epoch 7/15\n",
            "50000/50000 [==============================] - 9s 183us/step - loss: 0.8090 - accuracy: 0.7233 - val_loss: 0.9140 - val_accuracy: 0.6880\n",
            "Epoch 8/15\n",
            "50000/50000 [==============================] - 9s 182us/step - loss: 0.7769 - accuracy: 0.7341 - val_loss: 0.8721 - val_accuracy: 0.7035\n",
            "Epoch 9/15\n",
            "50000/50000 [==============================] - 9s 185us/step - loss: 0.7480 - accuracy: 0.7436 - val_loss: 0.9182 - val_accuracy: 0.6870\n",
            "Epoch 10/15\n",
            "50000/50000 [==============================] - 9s 184us/step - loss: 0.7227 - accuracy: 0.7534 - val_loss: 0.8777 - val_accuracy: 0.6992\n",
            "Epoch 11/15\n",
            "50000/50000 [==============================] - 9s 184us/step - loss: 0.6997 - accuracy: 0.7594 - val_loss: 0.8859 - val_accuracy: 0.7014\n",
            "Epoch 12/15\n",
            "50000/50000 [==============================] - 9s 182us/step - loss: 0.6756 - accuracy: 0.7679 - val_loss: 0.8820 - val_accuracy: 0.7057\n",
            "Epoch 13/15\n",
            "50000/50000 [==============================] - 9s 184us/step - loss: 0.6581 - accuracy: 0.7735 - val_loss: 0.8742 - val_accuracy: 0.7054\n",
            "Epoch 14/15\n",
            "50000/50000 [==============================] - 9s 183us/step - loss: 0.6394 - accuracy: 0.7793 - val_loss: 0.9020 - val_accuracy: 0.7035\n",
            "Epoch 15/15\n",
            "50000/50000 [==============================] - 9s 182us/step - loss: 0.6233 - accuracy: 0.7866 - val_loss: 0.9127 - val_accuracy: 0.6951\n"
          ],
          "name": "stdout"
        },
        {
          "output_type": "display_data",
          "data": {
            "image/png": "[encoded data removed]",
            "text/plain": [
              "<Figure size 432x288 with 1 Axes>"
            ]
          },
          "metadata": {
            "tags": [],
            "needs_background": "light"
          }
        }
      ]
    },
    {
      "cell_type": "code",
      "metadata": {
        "id": "k7A3Yqz6Ef51",
        "colab_type": "code",
        "colab": {}
      },
      "source": [
        ""
      ],
      "execution_count": 0,
      "outputs": []
    }
  ]
}