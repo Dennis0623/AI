{
  "nbformat": 4,
  "nbformat_minor": 0,
  "metadata": {
    "colab": {
      "name": "Keras深度學習初體驗2.ipynb",
      "provenance": []
    },
    "kernelspec": {
      "name": "python3",
      "display_name": "Python 3"
    }
  },
  "cells": [
    {
      "cell_type": "code",
      "metadata": {
        "id": "Ic1IHGHPkzFu",
        "colab_type": "code",
        "colab": {
          "base_uri": "https://localhost:8080/",
          "height": 748
        },
        "outputId": "efc8878d-480f-4026-80be-3e0213b89d23"
      },
      "source": [
        "import keras\n",
        "from keras.models import Sequential\n",
        "from keras.layers import Dense, Dropout, Activation\n",
        "from keras.optimizers import SGD\n",
        "\n",
        "# Generate dummy data\n",
        "import numpy as np\n",
        "x_train = np.random.random((1000, 10))\n",
        "y_train = keras.utils.to_categorical(np.random.randint(10, size=(1000, 1)), num_classes=10)\n",
        "x_test = np.random.random((100, 10))\n",
        "y_test = keras.utils.to_categorical(np.random.randint(10, size=(100, 1)), num_classes=10)\n",
        "\n",
        "model = Sequential()\n",
        "model.add(Dense(64, activation='relu', input_dim=10))\n",
        "model.add(Dense(64, activation='relu'))\n",
        "model.add(Dense(10, activation='softmax'))\n",
        "sgd = SGD(lr=0.01, decay=1e-6, momentum=0.9, nesterov=True)\n",
        "model.compile(loss='categorical_crossentropy', optimizer=sgd, metrics=['accuracy'])\n",
        "\n",
        "model.fit(x_train, y_train, epochs=20, batch_size=128)\n",
        "score = model.evaluate(x_test, y_test, batch_size=128)\n",
        "print(score)"
      ],
      "execution_count": 1,
      "outputs": [
        {
          "output_type": "stream",
          "text": [
            "Using TensorFlow backend.\n"
          ],
          "name": "stderr"
        },
        {
          "output_type": "stream",
          "text": [
            "Epoch 1/20\n",
            "1000/1000 [==============================] - 0s 211us/step - loss: 2.3228 - accuracy: 0.0840\n",
            "Epoch 2/20\n",
            "1000/1000 [==============================] - 0s 17us/step - loss: 2.3118 - accuracy: 0.0900\n",
            "Epoch 3/20\n",
            "1000/1000 [==============================] - 0s 15us/step - loss: 2.3032 - accuracy: 0.0980\n",
            "Epoch 4/20\n",
            "1000/1000 [==============================] - 0s 16us/step - loss: 2.2988 - accuracy: 0.1140\n",
            "Epoch 5/20\n",
            "1000/1000 [==============================] - 0s 15us/step - loss: 2.2960 - accuracy: 0.1190\n",
            "Epoch 6/20\n",
            "1000/1000 [==============================] - 0s 13us/step - loss: 2.2953 - accuracy: 0.1280\n",
            "Epoch 7/20\n",
            "1000/1000 [==============================] - 0s 13us/step - loss: 2.2941 - accuracy: 0.1240\n",
            "Epoch 8/20\n",
            "1000/1000 [==============================] - 0s 14us/step - loss: 2.2934 - accuracy: 0.1270\n",
            "Epoch 9/20\n",
            "1000/1000 [==============================] - 0s 14us/step - loss: 2.2929 - accuracy: 0.1240\n",
            "Epoch 10/20\n",
            "1000/1000 [==============================] - 0s 14us/step - loss: 2.2915 - accuracy: 0.1300\n",
            "Epoch 11/20\n",
            "1000/1000 [==============================] - 0s 14us/step - loss: 2.2910 - accuracy: 0.1290\n",
            "Epoch 12/20\n",
            "1000/1000 [==============================] - 0s 14us/step - loss: 2.2902 - accuracy: 0.1320\n",
            "Epoch 13/20\n",
            "1000/1000 [==============================] - 0s 15us/step - loss: 2.2896 - accuracy: 0.1320\n",
            "Epoch 14/20\n",
            "1000/1000 [==============================] - 0s 14us/step - loss: 2.2891 - accuracy: 0.1340\n",
            "Epoch 15/20\n",
            "1000/1000 [==============================] - 0s 14us/step - loss: 2.2888 - accuracy: 0.1360\n",
            "Epoch 16/20\n",
            "1000/1000 [==============================] - 0s 14us/step - loss: 2.2877 - accuracy: 0.1370\n",
            "Epoch 17/20\n",
            "1000/1000 [==============================] - 0s 13us/step - loss: 2.2873 - accuracy: 0.1360\n",
            "Epoch 18/20\n",
            "1000/1000 [==============================] - 0s 13us/step - loss: 2.2866 - accuracy: 0.1370\n",
            "Epoch 19/20\n",
            "1000/1000 [==============================] - 0s 13us/step - loss: 2.2859 - accuracy: 0.1380\n",
            "Epoch 20/20\n",
            "1000/1000 [==============================] - 0s 13us/step - loss: 2.2853 - accuracy: 0.1380\n",
            "100/100 [==============================] - 0s 195us/step\n",
            "[2.3108980655670166, 0.10000000149011612]\n"
          ],
          "name": "stdout"
        }
      ]
    }
  ]
}